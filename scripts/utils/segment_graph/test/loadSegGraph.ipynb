{
 "cells": [
  {
   "cell_type": "code",
   "execution_count": 1,
   "metadata": {},
   "outputs": [],
   "source": [
    "from panoptic_mapping.utils.segment_graph import seg_graph"
   ]
  },
  {
   "cell_type": "code",
   "execution_count": 8,
   "metadata": {},
   "outputs": [],
   "source": [
    "confidence_file = \"/home/yang/big_ssd/results/243/LSISegGraph/Confidence3/log/ConfidenceMap.txt\"\n",
    "initial_guess_file = \"/home/yang/big_ssd/results/243/LSISegGraph/Confidence3/log/LabelInitialGuess.txt\"\n",
    "label_mesh_f = \"/home/yang/big_ssd/results/243/LSISegGraph/Confidence3/label_mesh_.ply\"\n",
    "out_inst_mesh_f = \"/home/yang/big_ssd/results/243/LSISegGraph/Confidence3/instance_mesh_.ply\""
   ]
  },
  {
   "cell_type": "code",
   "execution_count": 9,
   "metadata": {},
   "outputs": [],
   "source": [
    "s_graph = seg_graph.SegGraph(confidence_file, initial_guess_file)"
   ]
  },
  {
   "cell_type": "code",
   "execution_count": 10,
   "metadata": {},
   "outputs": [
    {
     "name": "stdout",
     "output_type": "stream",
     "text": [
      "{'semantic': 72, 'labels': [405, 435, 438, 442, 443, 444, 447, 464, 469, 507, 530, 661, 694, 702, 708, 719, 729, 761, 792, 794, 821, 829, 836, 867, 872, 895, 901, 904, 908, 911, 912, 919, 927, 928, 936, 938, 940, 955, 962, 964, 966, 968, 975, 981, 983, 988, 1006, 1014, 1015, 1070, 1083]}\n",
      " inst_confidence:  132.303\n",
      " label pair:  405 -  405 191.476\n",
      " label pair:  405 -  435 98.4985\n",
      " label pair:  405 -  507 107.343\n",
      " label pair:  405 -  530 87.0946\n",
      " label pair:  435 -  435 150.094\n",
      " label pair:  435 -  507 57.138\n",
      " label pair:  435 -  530 115.452\n",
      " label pair:  507 -  507 122.049\n",
      " label pair:  507 -  530 77.8261\n",
      " label pair:  530 -  530 144.103\n"
     ]
    }
   ],
   "source": [
    "inst_num = 95\n",
    "print(s_graph.instances_info_initial[inst_num])\n",
    "inst_confidence, _ = s_graph.computeInstanceConfidence(inst_num)\n",
    "print(\" inst_confidence: \", inst_confidence)\n",
    "labels = [405,435,507,530]\n",
    "sematic_label = s_graph.instances_info_initial[inst_num]['semantic']\n",
    "for l_i,label in enumerate(labels):\n",
    "    for l_j in range(l_i, len(labels)):\n",
    "    \n",
    "        print(\" label pair: \", label, \"- \" ,labels[l_j], s_graph.confidence_map[label][sematic_label][labels[l_j]])"
   ]
  },
  {
   "cell_type": "code",
   "execution_count": 5,
   "metadata": {},
   "outputs": [
    {
     "name": "stdout",
     "output_type": "stream",
     "text": [
      "275.958\n"
     ]
    }
   ],
   "source": [
    "print(s_graph.confidence_map[12][59][2259])\n",
    "print(s_graph.confidence_map[12][59][2259])\n",
    "print(s_graph.confidence_map[12][59][2259])"
   ]
  },
  {
   "cell_type": "code",
   "execution_count": 67,
   "metadata": {},
   "outputs": [],
   "source": [
    "import copy\n",
    "insts_with_single_seg = {}\n",
    "for inst_label in s_graph.instances_info_initial:\n",
    "    inst_info = copy.deepcopy(s_graph.instances_info_initial[inst_label]) \n",
    "    if(len(inst_info['labels']) == 1):\n",
    "        inst_info['confidence'],_ = s_graph.computeInstanceConfidence(inst_label) \n",
    "        insts_with_single_seg[inst_label] = inst_info"
   ]
  },
  {
   "cell_type": "code",
   "execution_count": 7,
   "metadata": {},
   "outputs": [],
   "source": [
    "label_2702_info = s_graph.confidence_map[2702]\n",
    "seman_confidence = {}\n",
    "for semantic in label_2702_info:\n",
    "    seman_confidence[semantic] = label_2702_info[semantic][2702]"
   ]
  },
  {
   "cell_type": "code",
   "execution_count": 8,
   "metadata": {},
   "outputs": [
    {
     "data": {
      "text/plain": [
       "{28.0: 5.0,\n",
       " 56.0: 99.0,\n",
       " 59.0: 38.0,\n",
       " 60.0: 301.0,\n",
       " 107.0: 4.0,\n",
       " 123.0: 2.0,\n",
       " 132.0: 17.0,\n",
       " 133.0: 15.0}"
      ]
     },
     "execution_count": 8,
     "metadata": {},
     "output_type": "execute_result"
    }
   ],
   "source": [
    "seman_confidence"
   ]
  }
 ],
 "metadata": {
  "kernelspec": {
   "display_name": "Python 3",
   "language": "python",
   "name": "python3"
  },
  "language_info": {
   "codemirror_mode": {
    "name": "ipython",
    "version": 3
   },
   "file_extension": ".py",
   "mimetype": "text/x-python",
   "name": "python",
   "nbconvert_exporter": "python",
   "pygments_lexer": "ipython3",
   "version": "3.8.10"
  },
  "orig_nbformat": 4,
  "vscode": {
   "interpreter": {
    "hash": "916dbcbb3f70747c44a77c7bcd40155683ae19c65e1c03b4aa3499c5328201f1"
   }
  }
 },
 "nbformat": 4,
 "nbformat_minor": 2
}
