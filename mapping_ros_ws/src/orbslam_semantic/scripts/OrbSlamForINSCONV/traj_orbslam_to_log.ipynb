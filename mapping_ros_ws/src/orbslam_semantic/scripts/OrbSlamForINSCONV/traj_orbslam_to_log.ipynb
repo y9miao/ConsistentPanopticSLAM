{
 "cells": [
  {
   "cell_type": "code",
   "execution_count": 1,
   "metadata": {},
   "outputs": [],
   "source": [
    "import numpy as np\n",
    "import os \n",
    "import argparse\n",
    "from scipy.spatial.transform import Rotation as R"
   ]
  },
  {
   "cell_type": "code",
   "execution_count": 2,
   "metadata": {},
   "outputs": [],
   "source": [
    "orbtraj_f = \"/home/yang/toolbox/test_field/test/INS-Conv/instance_demo/SensorData/trajectory.txt\"\n",
    "out_log_f = \"/home/yang/toolbox/test_field/test/INS-Conv/instance_demo/SensorData/trajectory.log\""
   ]
  },
  {
   "cell_type": "code",
   "execution_count": 3,
   "metadata": {},
   "outputs": [],
   "source": [
    "traj_orbslam_arr = np.loadtxt(orbtraj_f)\n",
    "frame_ids = traj_orbslam_arr[:,0].astype(np.int32)\n",
    "unique_frame_ids, unique_frame_ids_indexs = np.unique(frame_ids, return_index=True)\n",
    "# repetitive_frame_ids = unique_frame_ids[counts>1]\n",
    "num_est_poses = unique_frame_ids.shape[0]\n",
    "traj_orb = {}\n",
    "for frame_i in unique_frame_ids_indexs:\n",
    "\n",
    "    frame_id = int(traj_orbslam_arr[frame_i,0])\n",
    "    t_WC = traj_orbslam_arr[frame_i, 1:4]\n",
    "    q_WC = traj_orbslam_arr[frame_i, 4:8]\n",
    "    T_WC = np.identity(4)\n",
    "\n",
    "    r = R.from_quat(q_WC)\n",
    "    T_WC[:3,:3] = r.as_matrix()\n",
    "    T_WC[:3,3] = t_WC\n",
    "    traj_orb[frame_id] = T_WC\n",
    "    # write results\n",
    "with open(out_log_f, 'w') as f:\n",
    "    for frame_id in traj_orb:\n",
    "        JOIN_ = \" \"\n",
    "        frame_id_log = JOIN_.join([str(int(frame_id)), \\\n",
    "                            str(int(frame_id)), str(int(frame_id+1))]) + '\\n'\n",
    "        f.write(frame_id_log)\n",
    "\n",
    "        T_WC = traj_orb[frame_id]\n",
    "        for matrix_line_i in range(T_WC.shape[0]):\n",
    "            matrix_line = list(T_WC[matrix_line_i])\n",
    "            matrix_line_str = [str(item) for item in matrix_line]\n",
    "            matrix_line_log = JOIN_.join(matrix_line_str) + '\\n'\n",
    "            f.write(matrix_line_log)"
   ]
  }
 ],
 "metadata": {
  "kernelspec": {
   "display_name": "Python 3",
   "language": "python",
   "name": "python3"
  },
  "language_info": {
   "codemirror_mode": {
    "name": "ipython",
    "version": 3
   },
   "file_extension": ".py",
   "mimetype": "text/x-python",
   "name": "python",
   "nbconvert_exporter": "python",
   "pygments_lexer": "ipython3",
   "version": "3.8.10"
  },
  "orig_nbformat": 4
 },
 "nbformat": 4,
 "nbformat_minor": 2
}
